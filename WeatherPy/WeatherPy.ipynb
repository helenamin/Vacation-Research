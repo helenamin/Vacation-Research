{
 "cells": [
  {
   "cell_type": "markdown",
   "metadata": {},
   "source": [
    "# WeatherPy\n",
    "----\n",
    "\n",
    "#### Note\n",
    "* Instructions have been included for each segment. You do not have to follow them exactly, but they are included to help you think through the steps."
   ]
  },
  {
   "cell_type": "code",
   "execution_count": 1,
   "metadata": {
    "scrolled": true
   },
   "outputs": [],
   "source": [
    "# Dependencies\n",
    "import matplotlib.pyplot as plt\n",
    "import requests\n",
    "import pandas as pd\n",
    "import numpy as np\n",
    "from api_keys import weather_api_key\n",
    "from citipy import citipy\n",
    "from scipy import stats"
   ]
  },
  {
   "cell_type": "markdown",
   "metadata": {},
   "source": [
    "## Generate Cities List"
   ]
  },
  {
   "cell_type": "code",
   "execution_count": 2,
   "metadata": {},
   "outputs": [
    {
     "data": {
      "text/plain": [
       "599"
      ]
     },
     "execution_count": 2,
     "metadata": {},
     "output_type": "execute_result"
    }
   ],
   "source": [
    "longitudes = np.arange(-180,360,10)\n",
    "latitudes = np.arange(-90,180,5)\n",
    "\n",
    "cities = []\n",
    "countries = []\n",
    "\n",
    "for longitue in longitudes:\n",
    "    for latitude in latitudes:\n",
    "        city = (citipy.nearest_city(latitude, longitue)).city_name\n",
    "        country = (citipy.nearest_city(latitude, longitue)).country_code\n",
    "        if city not in cities:\n",
    "            cities.append(city)\n",
    "            countries.append(country.upper())\n",
    "            \n",
    "len(cities)"
   ]
  },
  {
   "cell_type": "markdown",
   "metadata": {},
   "source": [
    "### Perform API Calls\n",
    "* Perform a weather check on each city using a series of successive API calls.\n",
    "* Include a print log of each city as it'sbeing processed (with the city number and city name).\n"
   ]
  },
  {
   "cell_type": "code",
   "execution_count": 4,
   "metadata": {},
   "outputs": [],
   "source": [
    "# Save config information.\n",
    "url = \"http://api.openweathermap.org/data/2.5/weather?\"\n",
    "units = \"imperial\"\n",
    "\n",
    "# Build partial query URL\n",
    "query_url = f\"{url}appid={weather_api_key}&units={units}&q=\""
   ]
  },
  {
   "cell_type": "code",
   "execution_count": 37,
   "metadata": {
    "scrolled": true
   },
   "outputs": [
    {
     "name": "stdout",
     "output_type": "stream",
     "text": [
      "City number 0: vaini , Processed\n",
      "City number 1: halalo , not available\n",
      "City number 2: vaitupu , not available\n",
      "City number 3: kapaa , Processed\n",
      "City number 4: provideniya , Processed\n",
      "City number 5: egvekinot , Processed\n",
      "City number 6: mys shmidta , not available\n",
      "City number 7: alofi , Processed\n",
      "City number 8: satitoa , not available\n",
      "City number 9: samalaeulu , not available\n",
      "City number 10: saleaula , not available\n",
      "City number 11: bethel , Processed\n",
      "City number 12: lavrentiya , Processed\n",
      "City number 13: barrow , Processed\n",
      "City number 14: mataura , Processed\n",
      "City number 15: avarua , Processed\n",
      "City number 16: faanui , Processed\n",
      "City number 17: samusu , not available\n",
      "City number 18: hilo , Processed\n",
      "City number 19: ewa beach , Processed\n",
      "City number 20: kodiak , Processed\n",
      "City number 21: teahupoo , Processed\n",
      "City number 22: fare , Processed\n",
      "City number 23: atuona , Processed\n",
      "City number 24: kahului , Processed\n",
      "City number 25: sterling , Processed\n",
      "City number 26: college , Processed\n",
      "City number 27: rikitea , Processed\n",
      "City number 28: fortuna , Processed\n",
      "City number 29: sitka , Processed\n",
      "City number 30: haines junction , Processed\n",
      "City number 31: mayo , Processed\n",
      "City number 32: aklavik , Processed\n",
      "City number 33: tuktoyaktuk , Processed\n",
      "City number 34: guerrero negro , Processed\n",
      "City number 35: lompoc , Processed\n",
      "City number 36: pacific grove , Processed\n",
      "City number 37: pacifica , Processed\n",
      "City number 38: newport , Processed\n",
      "City number 39: port hardy , Processed\n",
      "City number 40: prince rupert , Processed\n",
      "City number 41: juneau , Processed\n",
      "City number 42: norman wells , Processed\n",
      "City number 43: punta arenas , Processed\n",
      "City number 44: cabo san lucas , Processed\n",
      "City number 45: constitucion , Processed\n",
      "City number 46: rosarito , Processed\n",
      "City number 47: santa maria , Processed\n",
      "City number 48: sun valley , Processed\n",
      "City number 49: hermiston , Processed\n",
      "City number 50: peachland , Processed\n",
      "City number 51: beaverlodge , Processed\n",
      "City number 52: fort nelson , Processed\n",
      "City number 53: hay river , Processed\n",
      "City number 54: castro , Processed\n",
      "City number 55: puerto ayora , Processed\n",
      "City number 56: ixtapa , Processed\n",
      "City number 57: coahuayana , Processed\n",
      "City number 58: san patricio , Processed\n",
      "City number 59: la paz , Processed\n",
      "City number 60: cumpas , Processed\n",
      "City number 61: winslow , Processed\n",
      "City number 62: price , Processed\n",
      "City number 63: livingston , Processed\n",
      "City number 64: maple creek , Processed\n",
      "City number 65: grand centre , not available\n",
      "City number 66: yellowknife , Processed\n",
      "City number 67: qaanaaq , Processed\n",
      "City number 68: ancud , Processed\n",
      "City number 69: lebu , Processed\n",
      "City number 70: puerto escondido , Processed\n",
      "City number 71: acapulco , Processed\n",
      "City number 72: temascalcingo , Processed\n",
      "City number 73: galeana , Processed\n",
      "City number 74: uvalde , Processed\n",
      "City number 75: elk city , Processed\n",
      "City number 76: lexington , Processed\n",
      "City number 77: pierre , Processed\n",
      "City number 78: brandon , Processed\n",
      "City number 79: the pas , Processed\n",
      "City number 80: thompson , Processed\n",
      "City number 81: ushuaia , Processed\n",
      "City number 82: marcona , not available\n",
      "City number 83: pisco , Processed\n",
      "City number 84: huarmey , Processed\n",
      "City number 85: san cristobal , Processed\n",
      "City number 86: la libertad , Processed\n",
      "City number 87: san agustin acasaguastlan , Processed\n",
      "City number 88: hecelchakan , Processed\n",
      "City number 89: progreso , Processed\n",
      "City number 90: chalmette , Processed\n",
      "City number 91: southaven , Processed\n",
      "City number 92: jacksonville , Processed\n",
      "City number 93: merrill , Processed\n",
      "City number 94: thunder bay , Processed\n",
      "City number 95: sioux lookout , Processed\n",
      "City number 96: coihaique , Processed\n",
      "City number 97: coquimbo , Processed\n",
      "City number 98: taltal , Processed\n",
      "City number 99: chimbote , Processed\n",
      "City number 100: morropon , Processed\n",
      "City number 101: pedernales , Processed\n",
      "City number 102: la palma , Processed\n",
      "City number 103: portobelo , Processed\n",
      "City number 104: san andres , Processed\n",
      "City number 105: bodden town , Processed\n",
      "City number 106: key largo , Processed\n",
      "City number 107: ormond beach , Processed\n",
      "City number 108: rockingham , Processed\n",
      "City number 109: uniontown , Processed\n",
      "City number 110: midland , Processed\n",
      "City number 111: cochrane , Processed\n",
      "City number 112: attawapiskat , not available\n",
      "City number 113: iqaluit , Processed\n",
      "City number 114: clyde river , Processed\n",
      "City number 115: rio gallegos , Processed\n",
      "City number 116: san carlos de bariloche , Processed\n",
      "City number 117: rengo , Processed\n",
      "City number 118: vicuna , Processed\n",
      "City number 119: iquique , Processed\n",
      "City number 120: azangaro , Processed\n",
      "City number 121: manoel urbano , Processed\n",
      "City number 122: benjamin constant , Processed\n",
      "City number 123: mitu , Processed\n",
      "City number 124: cumaribo , not available\n",
      "City number 125: carora , Processed\n",
      "City number 126: oranjestad , Processed\n",
      "City number 127: sosua , Processed\n",
      "City number 128: cockburn town , Processed\n",
      "City number 129: hamilton , Processed\n",
      "City number 130: nantucket , Processed\n",
      "City number 131: madison , Processed\n",
      "City number 132: forestville , Processed\n",
      "City number 133: port-cartier , Processed\n",
      "City number 134: narsaq , Processed\n",
      "City number 135: rawson , Processed\n",
      "City number 136: viedma , Processed\n",
      "City number 137: tres arroyos , Processed\n",
      "City number 138: chivilcoy , Processed\n",
      "City number 139: reconquista , Processed\n",
      "City number 140: presidencia roque saenz pena , Processed\n",
      "City number 141: mayor pablo lagerenza , Processed\n",
      "City number 142: pontes e lacerda , Processed\n",
      "City number 143: aripuana , Processed\n",
      "City number 144: novo aripuana , Processed\n",
      "City number 145: boa vista , Processed\n",
      "City number 146: lethem , Processed\n",
      "City number 147: rio claro , Processed\n",
      "City number 148: le vauclin , Processed\n",
      "City number 149: codrington , Processed\n",
      "City number 150: the valley , Processed\n",
      "City number 151: saint george , Processed\n",
      "City number 152: port hawkesbury , Processed\n",
      "City number 153: louisbourg , not available\n",
      "City number 154: saint-augustin , Processed\n",
      "City number 155: pangnirtung , Processed\n",
      "City number 156: upernavik , Processed\n",
      "City number 157: mar del plata , Processed\n",
      "City number 158: rocha , Processed\n",
      "City number 159: rio grande , Processed\n",
      "City number 160: tramandai , Processed\n",
      "City number 161: carambei , Processed\n",
      "City number 162: cardoso , Processed\n",
      "City number 163: rubiataba , Processed\n",
      "City number 164: miranorte , not available\n",
      "City number 165: itupiranga , Processed\n",
      "City number 166: tucuma , Processed\n",
      "City number 167: saint-georges , Processed\n",
      "City number 168: sinnamary , Processed\n",
      "City number 169: bathsheba , Processed\n",
      "City number 170: torbay , Processed\n",
      "City number 171: bonavista , Processed\n",
      "City number 172: saint anthony , Processed\n",
      "City number 173: paamiut , Processed\n",
      "City number 174: nuuk , Processed\n",
      "City number 175: ilulissat , Processed\n",
      "City number 176: chuy , Processed\n",
      "City number 177: cidreira , Processed\n",
      "City number 178: laguna , Processed\n",
      "City number 179: arraial do cabo , Processed\n",
      "City number 180: serra , Processed\n",
      "City number 181: ibicui , Processed\n",
      "City number 182: jaguarari , Processed\n",
      "City number 183: boa viagem , Processed\n",
      "City number 184: acarau , Processed\n",
      "City number 185: carutapera , Processed\n",
      "City number 186: ponta do sol , Processed\n",
      "City number 187: ribeira grande , Processed\n",
      "City number 188: nanortalik , Processed\n",
      "City number 189: tasiilaq , Processed\n",
      "City number 190: sao joao da barra , Processed\n",
      "City number 191: vila velha , Processed\n",
      "City number 192: caravelas , Processed\n",
      "City number 193: maceio , Processed\n",
      "City number 194: olinda , Processed\n",
      "City number 195: cabedelo , Processed\n",
      "City number 196: touros , Processed\n",
      "City number 197: sao filipe , Processed\n",
      "City number 198: porto novo , Processed\n",
      "City number 199: lagoa , Processed\n",
      "City number 200: grindavik , Processed\n",
      "City number 201: olafsvik , Processed\n",
      "City number 202: bolungarvik , not available\n",
      "City number 203: illoqqortoormiut , not available\n",
      "City number 204: jamestown , Processed\n",
      "City number 205: georgetown , Processed\n",
      "City number 206: goderich , Processed\n",
      "City number 207: oussouye , Processed\n",
      "City number 208: dakar , Processed\n",
      "City number 209: nouadhibou , Processed\n",
      "City number 210: los llanos de aridane , Processed\n"
     ]
    },
    {
     "name": "stdout",
     "output_type": "stream",
     "text": [
      "City number 211: vila franca do campo , Processed\n",
      "City number 212: dingle , Processed\n",
      "City number 213: vestmannaeyjar , Processed\n",
      "City number 214: blonduos , not available\n",
      "City number 215: barentsburg , not available\n",
      "City number 216: hermanus , Processed\n",
      "City number 217: cape town , Processed\n",
      "City number 218: harper , Processed\n",
      "City number 219: buchanan , Processed\n",
      "City number 220: tokonou , Processed\n",
      "City number 221: nioro , Processed\n",
      "City number 222: atar , Processed\n",
      "City number 223: tiznit , Processed\n",
      "City number 224: azimur , not available\n",
      "City number 225: peniche , Processed\n",
      "City number 226: carballo , Processed\n",
      "City number 227: skibbereen , Processed\n",
      "City number 228: ballina , Processed\n",
      "City number 229: sorvag , not available\n",
      "City number 230: hofn , Processed\n",
      "City number 231: husavik , Processed\n",
      "City number 232: saldanha , Processed\n",
      "City number 233: luderitz , Processed\n",
      "City number 234: port-gentil , Processed\n",
      "City number 235: takoradi , Processed\n",
      "City number 236: accra , Processed\n",
      "City number 237: yendi , Processed\n",
      "City number 238: gorom-gorom , Processed\n",
      "City number 239: tessalit , Processed\n",
      "City number 240: adrar , Processed\n",
      "City number 241: wahran , not available\n",
      "City number 242: burriana , Processed\n",
      "City number 243: libourne , Processed\n",
      "City number 244: fecamp , Processed\n",
      "City number 245: scarborough , Processed\n",
      "City number 246: lerwick , Processed\n",
      "City number 247: brae , Processed\n",
      "City number 248: raudeberg , Processed\n",
      "City number 249: roald , Processed\n",
      "City number 250: walvis bay , Processed\n",
      "City number 251: opuwo , Processed\n",
      "City number 252: namibe , Processed\n",
      "City number 253: luanda , Processed\n",
      "City number 254: mayumba , Processed\n",
      "City number 255: kango , Processed\n",
      "City number 256: nkongsamba , Processed\n",
      "City number 257: bauchi , Processed\n",
      "City number 258: goure , Processed\n",
      "City number 259: arlit , Processed\n",
      "City number 260: gat , Processed\n",
      "City number 261: nalut , Processed\n",
      "City number 262: sidi bu zayd , not available\n",
      "City number 263: tortoli , Processed\n",
      "City number 264: cremona , Processed\n",
      "City number 265: werneck , Processed\n",
      "City number 266: guderup , Processed\n",
      "City number 267: vikersund , Processed\n",
      "City number 268: a , not available\n",
      "City number 269: sorland , Processed\n",
      "City number 270: longyearbyen , Processed\n",
      "City number 271: bredasdorp , Processed\n",
      "City number 272: calvinia , Processed\n",
      "City number 273: aranos , Processed\n",
      "City number 274: grootfontein , Processed\n",
      "City number 275: menongue , Processed\n",
      "City number 276: saurimo , Processed\n",
      "City number 277: ilebo , Processed\n",
      "City number 278: boende , Processed\n",
      "City number 279: kouango , Processed\n",
      "City number 280: am timan , Processed\n",
      "City number 281: biltine , Processed\n",
      "City number 282: faya , Processed\n",
      "City number 283: awjilah , Processed\n",
      "City number 284: ajdabiya , Processed\n",
      "City number 285: methoni , Processed\n",
      "City number 286: delvine , Processed\n",
      "City number 287: indija , Processed\n",
      "City number 288: wieliczka , Processed\n",
      "City number 289: primore , not available\n",
      "City number 290: maarianhamina , Processed\n",
      "City number 291: skelleftea , Processed\n",
      "City number 292: lyngseidet , Processed\n",
      "City number 293: skjervoy , Processed\n",
      "City number 294: kruisfontein , Processed\n",
      "City number 295: port elizabeth , Processed\n",
      "City number 296: port alfred , Processed\n",
      "City number 297: east london , Processed\n",
      "City number 298: richmond , Processed\n",
      "City number 299: lydenburg , Processed\n",
      "City number 300: shurugwi , Processed\n",
      "City number 301: luangwa , Processed\n",
      "City number 302: luwingu , Processed\n",
      "City number 303: mwandiga , Processed\n",
      "City number 304: kilembe , Processed\n",
      "City number 305: maridi , Processed\n",
      "City number 306: talawdi , not available\n",
      "City number 307: bara , Processed\n",
      "City number 308: marawi , Processed\n",
      "City number 309: sohag , Processed\n",
      "City number 310: madinat sittah uktubar , Processed\n",
      "City number 311: kumluca , Processed\n",
      "City number 312: bozuyuk , Processed\n",
      "City number 313: sulina , Processed\n",
      "City number 314: fastiv , Processed\n",
      "City number 315: senno , Processed\n",
      "City number 316: lisiy nos , Processed\n",
      "City number 317: kostomuksha , Processed\n",
      "City number 318: vadso , Processed\n",
      "City number 319: berlevag , Processed\n",
      "City number 320: mehamn , Processed\n",
      "City number 321: umzimvubu , not available\n",
      "City number 322: margate , Processed\n",
      "City number 323: richards bay , Processed\n",
      "City number 324: beloha , Processed\n",
      "City number 325: toliary , not available\n",
      "City number 326: mocuba , Processed\n",
      "City number 327: mocambique , not available\n",
      "City number 328: lindi , Processed\n",
      "City number 329: micheweni , Processed\n",
      "City number 330: garissa , Processed\n",
      "City number 331: shakiso , Processed\n",
      "City number 332: abomsa , Processed\n",
      "City number 333: ginda , Processed\n",
      "City number 334: mecca , Processed\n",
      "City number 335: umm lajj , Processed\n",
      "City number 336: sakakah , Processed\n",
      "City number 337: abu kamal , Processed\n",
      "City number 338: bayburt , Processed\n",
      "City number 339: novolabinskaya , Processed\n",
      "City number 340: mitrofanovka , Processed\n",
      "City number 341: spas-klepiki , Processed\n",
      "City number 342: kharovsk , Processed\n",
      "City number 343: severodvinsk , Processed\n",
      "City number 344: ostrovnoy , Processed\n",
      "City number 345: tumannyy , not available\n",
      "City number 346: vardo , Processed\n",
      "City number 347: belushya guba , not available\n",
      "City number 348: tsihombe , not available\n",
      "City number 349: taolanaro , not available\n",
      "City number 350: vangaindrano , Processed\n",
      "City number 351: mahanoro , Processed\n",
      "City number 352: antalaha , Processed\n",
      "City number 353: ambilobe , Processed\n",
      "City number 354: victoria , Processed\n",
      "City number 355: mogadishu , Processed\n",
      "City number 356: hobyo , Processed\n",
      "City number 357: bandarbeyla , Processed\n",
      "City number 358: bereda , Processed\n",
      "City number 359: abu samrah , Processed\n",
      "City number 360: umm bab , Processed\n",
      "City number 361: hendijan , not available\n",
      "City number 362: tafresh , Processed\n",
      "City number 363: zig , Processed\n",
      "City number 364: fort-shevchenko , Processed\n",
      "City number 365: ozinki , Processed\n",
      "City number 366: bazarnyye mataki , Processed\n",
      "City number 367: raduzhnyy , Processed\n",
      "City number 368: koslan , Processed\n",
      "City number 369: saint-philippe , Processed\n",
      "City number 370: souillac , Processed\n",
      "City number 371: grand river south east , not available\n",
      "City number 372: cap malheureux , Processed\n",
      "City number 373: bargal , not available\n",
      "City number 374: salalah , Processed\n",
      "City number 375: sur , Processed\n",
      "City number 376: chabahar , Processed\n",
      "City number 377: zabol , Processed\n",
      "City number 378: torbat-e jam , Processed\n",
      "City number 379: hazorasp , Processed\n",
      "City number 380: karauzyak , not available\n",
      "City number 381: dombarovskiy , Processed\n",
      "City number 382: turgoyak , Processed\n",
      "City number 383: volchansk , Processed\n",
      "City number 384: inta , Processed\n",
      "City number 385: amderma , not available\n",
      "City number 386: dikson , Processed\n",
      "City number 387: mahebourg , Processed\n",
      "City number 388: bambous virieux , Processed\n",
      "City number 389: quatre cocos , Processed\n",
      "City number 390: hithadhoo , Processed\n",
      "City number 391: thinadhoo , Processed\n",
      "City number 392: eydhafushi , Processed\n",
      "City number 393: kavaratti , Processed\n",
      "City number 394: malwan , not available\n",
      "City number 395: veraval , Processed\n",
      "City number 396: mithi , Processed\n",
      "City number 397: barkhan , Processed\n",
      "City number 398: tagab , Processed\n",
      "City number 399: chkalovsk , Processed\n",
      "City number 400: zhanatas , not available\n",
      "City number 401: astana , Processed\n",
      "City number 402: bulaevo , Processed\n",
      "City number 403: gornopravdinsk , Processed\n",
      "City number 404: yar-sale , Processed\n",
      "City number 405: busselton , Processed\n",
      "City number 406: matara , Processed\n",
      "City number 407: weligama , Processed\n",
      "City number 408: valvedditturai , Processed\n",
      "City number 409: kavali , Processed\n",
      "City number 410: mul , Processed\n",
      "City number 411: khajuraho , Processed\n",
      "City number 412: bageshwar , Processed\n",
      "City number 413: leh , Processed\n",
      "City number 414: aksu , Processed\n",
      "City number 415: sarkand , Processed\n",
      "City number 416: semey , Processed\n",
      "City number 417: kargat , Processed\n",
      "City number 418: kargasok , Processed\n",
      "City number 419: urengoy , Processed\n",
      "City number 420: tazovskiy , Processed\n",
      "City number 421: albany , Processed\n",
      "City number 422: carnarvon , Processed\n",
      "City number 423: bengkulu , Processed\n",
      "City number 424: meulaboh , Processed\n",
      "City number 425: banda aceh , Processed\n"
     ]
    },
    {
     "name": "stdout",
     "output_type": "stream",
     "text": [
      "City number 426: port blair , Processed\n",
      "City number 427: mathbaria , Processed\n",
      "City number 428: sherpur , Processed\n",
      "City number 429: lasa , Processed\n",
      "City number 430: korla , Processed\n",
      "City number 431: urumqi , Processed\n",
      "City number 432: mugur-aksy , Processed\n",
      "City number 433: kopyevo , not available\n",
      "City number 434: teya , Processed\n",
      "City number 435: turukhansk , Processed\n",
      "City number 436: talnakh , Processed\n",
      "City number 437: palabuhanratu , not available\n",
      "City number 438: payakumbuh , Processed\n",
      "City number 439: ayer itam , not available\n",
      "City number 440: ko samui , Processed\n",
      "City number 441: doembang nangbuat , Processed\n",
      "City number 442: chiang rai , Processed\n",
      "City number 443: dali , Processed\n",
      "City number 444: yaan , Processed\n",
      "City number 445: xining , Processed\n",
      "City number 446: zhangye , Processed\n",
      "City number 447: hovd , Processed\n",
      "City number 448: moron , Processed\n",
      "City number 449: atagay , Processed\n",
      "City number 450: kodinsk , Processed\n",
      "City number 451: tura , Processed\n",
      "City number 452: khatanga , Processed\n",
      "City number 453: geraldton , Processed\n",
      "City number 454: bambanglipuro , Processed\n",
      "City number 455: mlonggo , Processed\n",
      "City number 456: pontianak , Processed\n",
      "City number 457: sibu , Processed\n",
      "City number 458: phan rang , not available\n",
      "City number 459: quang ngai , Processed\n",
      "City number 460: lingao , Processed\n",
      "City number 461: guilin , Processed\n",
      "City number 462: enshi , Processed\n",
      "City number 463: weinan , Processed\n",
      "City number 464: dongsheng , Processed\n",
      "City number 465: darhan , Processed\n",
      "City number 466: krasnyy chikoy , Processed\n",
      "City number 467: kurumkan , Processed\n",
      "City number 468: yerbogachen , Processed\n",
      "City number 469: aykhal , Processed\n",
      "City number 470: saskylakh , Processed\n",
      "City number 471: new norfolk , Processed\n",
      "City number 472: northam , Processed\n",
      "City number 473: port hedland , Processed\n",
      "City number 474: broome , Processed\n",
      "City number 475: waingapu , Processed\n",
      "City number 476: sinjai , Processed\n",
      "City number 477: palu , Processed\n",
      "City number 478: parangan , Processed\n",
      "City number 479: osmena , Processed\n",
      "City number 480: san narciso , Processed\n",
      "City number 481: davila , Processed\n",
      "City number 482: tunghsiao , not available\n",
      "City number 483: fuyang , Processed\n",
      "City number 484: rizhao , Processed\n",
      "City number 485: qinhuangdao , Processed\n",
      "City number 486: wulanhaote , not available\n",
      "City number 487: hailar , Processed\n",
      "City number 488: tupik , Processed\n",
      "City number 489: khani , Processed\n",
      "City number 490: verkhnevilyuysk , Processed\n",
      "City number 491: zhigansk , Processed\n",
      "City number 492: hobart , Processed\n",
      "City number 493: mount gambier , Processed\n",
      "City number 494: port lincoln , Processed\n",
      "City number 495: flinders , Processed\n",
      "City number 496: yulara , Processed\n",
      "City number 497: kununurra , Processed\n",
      "City number 498: port keats , Processed\n",
      "City number 499: nguiu , not available\n",
      "City number 500: amahai , Processed\n",
      "City number 501: sorong , Processed\n",
      "City number 502: pundaguitan , Processed\n",
      "City number 503: bacolod , Processed\n",
      "City number 504: san policarpo , Processed\n",
      "City number 505: itoman , Processed\n",
      "City number 506: gushikawa , Processed\n",
      "City number 507: kaseda , Processed\n",
      "City number 508: fukuma , Processed\n",
      "City number 509: khasan , Processed\n",
      "City number 510: chaihe , Processed\n",
      "City number 511: novobureyskiy , Processed\n",
      "City number 512: fevralsk , not available\n",
      "City number 513: chagda , not available\n",
      "City number 514: namtsy , Processed\n",
      "City number 515: tiksi , Processed\n",
      "City number 516: portland , Processed\n",
      "City number 517: murray bridge , Processed\n",
      "City number 518: broken hill , Processed\n",
      "City number 519: mount isa , Processed\n",
      "City number 520: alyangula , Processed\n",
      "City number 521: merauke , Processed\n",
      "City number 522: kiunga , Processed\n",
      "City number 523: vanimo , Processed\n",
      "City number 524: airai , Processed\n",
      "City number 525: naze , Processed\n",
      "City number 526: shingu , Processed\n",
      "City number 527: shimoda , Processed\n",
      "City number 528: kamogawa , Processed\n",
      "City number 529: tenno , Processed\n",
      "City number 530: wakkanai , Processed\n",
      "City number 531: vysokogornyy , Processed\n",
      "City number 532: mnogovershinnyy , Processed\n",
      "City number 533: solnechnyy , Processed\n",
      "City number 534: ust-nera , Processed\n",
      "City number 535: deputatskiy , Processed\n",
      "City number 536: nizhneyansk , not available\n",
      "City number 537: bluff , Processed\n",
      "City number 538: lakes entrance , Processed\n",
      "City number 539: goulburn , Processed\n",
      "City number 540: narrabri , Processed\n",
      "City number 541: biloela , Processed\n",
      "City number 542: mackay , Processed\n",
      "City number 543: samarai , Processed\n",
      "City number 544: alotau , not available\n",
      "City number 545: kimbe , Processed\n",
      "City number 546: kavieng , Processed\n",
      "City number 547: lorengau , Processed\n",
      "City number 548: katsuura , Processed\n",
      "City number 549: hasaki , Processed\n",
      "City number 550: kamaishi , Processed\n",
      "City number 551: sentyabrskiy , not available\n",
      "City number 552: vostok , Processed\n",
      "City number 553: magadan , Processed\n",
      "City number 554: arman , Processed\n",
      "City number 555: zyryanka , Processed\n",
      "City number 556: chokurdakh , Processed\n",
      "City number 557: tuatapere , Processed\n",
      "City number 558: te anau , Processed\n",
      "City number 559: port macquarie , Processed\n",
      "City number 560: byron bay , Processed\n",
      "City number 561: koumac , Processed\n",
      "City number 562: poum , Processed\n",
      "City number 563: kirakira , Processed\n",
      "City number 564: honiara , Processed\n",
      "City number 565: buala , Processed\n",
      "City number 566: kieta , Processed\n",
      "City number 567: namatanai , Processed\n",
      "City number 568: butaritari , Processed\n",
      "City number 569: severo-kurilsk , Processed\n",
      "City number 570: petropavlovsk-kamchatskiy , Processed\n",
      "City number 571: milkovo , Processed\n",
      "City number 572: palana , Processed\n",
      "City number 573: evensk , Processed\n",
      "City number 574: cherskiy , Processed\n",
      "City number 575: kaitangata , Processed\n",
      "City number 576: ranfurly , Processed\n",
      "City number 577: westport , Processed\n",
      "City number 578: ahipara , Processed\n",
      "City number 579: vao , Processed\n",
      "City number 580: isangel , Processed\n",
      "City number 581: sola , Processed\n",
      "City number 582: lata , Processed\n",
      "City number 583: utiroa , not available\n",
      "City number 584: tabiauea , not available\n",
      "City number 585: nikolskoye , Processed\n",
      "City number 586: tilichiki , Processed\n",
      "City number 587: kamenskoye , not available\n",
      "City number 588: pevek , Processed\n",
      "City number 589: dunedin , Processed\n",
      "City number 590: waipawa , Processed\n",
      "City number 591: tolaga bay , Processed\n",
      "City number 592: ruatoria , not available\n",
      "City number 593: ngunguru , Processed\n",
      "City number 594: russell , Processed\n",
      "City number 595: asau , Processed\n",
      "City number 596: rungata , not available\n",
      "City number 597: beringovskiy , Processed\n",
      "City number 598: leningradskiy , Processed\n"
     ]
    }
   ],
   "source": [
    "# set up lists to hold reponse info\n",
    "temp = []\n",
    "lat = []\n",
    "lon = []\n",
    "Humidity = []\n",
    "Cloudiness = []\n",
    "wind = []\n",
    "date = []\n",
    "i=0\n",
    "\n",
    "# Loop through the list of cities and perform a request for data on each\n",
    "for city in cities:\n",
    "    try:\n",
    "        response = requests.get(query_url + city).json()\n",
    "        if response['cod'] == 200:\n",
    "            print(f\"City number {i}: {city} , Processed\")\n",
    "            try:\n",
    "                temp.append(response['main']['temp_max'])\n",
    "            except KeyError:\n",
    "                temp.append('NAN')\n",
    "            \n",
    "            try:\n",
    "                lat.append(response['coord']['lat'])\n",
    "            except KeyError:\n",
    "                lat.append('NAN')\n",
    "            \n",
    "            try:\n",
    "                lon.append(response['coord']['lon'])\n",
    "            except KeyError:\n",
    "                lon.append('NAN')    \n",
    "            \n",
    "            try:   \n",
    "                Humidity.append(response['main']['humidity'])\n",
    "            except KeyError:\n",
    "                Humidity.append('NAN')\n",
    "            \n",
    "            try:\n",
    "                Cloudiness.append(response['clouds']['all'])\n",
    "            except KeyError:\n",
    "                Cloudiness.append('NAN')\n",
    "            \n",
    "            try:    \n",
    "                wind.append(response['wind']['speed'])\n",
    "            except KeyError:\n",
    "                wind.append('NAN')\n",
    "         \n",
    "            try:    \n",
    "                date.append(response['dt'])\n",
    "            except KeyError:\n",
    "                date.append('NAN')        \n",
    "        elif response['cod'] == '404':\n",
    "            print(f\"City number {i}: {city} , not available\")\n",
    "            temp.append('NAN')\n",
    "            lat.append('NAN')\n",
    "            lon.append('NAN')\n",
    "            Humidity.append('NAN')\n",
    "            Cloudiness.append('NAN')\n",
    "            wind.append('NAN')\n",
    "            date.append('NAN')\n",
    "        i+=1\n",
    "    except IndexError:\n",
    "        print(\"index error\")\n",
    "        i+=1\n",
    "    "
   ]
  },
  {
   "cell_type": "markdown",
   "metadata": {},
   "source": [
    "### Convert Raw Data to DataFrame\n",
    "* Export the city data into a .csv.\n",
    "* Display the DataFrame"
   ]
  },
  {
   "cell_type": "code",
   "execution_count": 38,
   "metadata": {},
   "outputs": [
    {
     "data": {
      "text/html": [
       "<div>\n",
       "<style scoped>\n",
       "    .dataframe tbody tr th:only-of-type {\n",
       "        vertical-align: middle;\n",
       "    }\n",
       "\n",
       "    .dataframe tbody tr th {\n",
       "        vertical-align: top;\n",
       "    }\n",
       "\n",
       "    .dataframe thead th {\n",
       "        text-align: right;\n",
       "    }\n",
       "</style>\n",
       "<table border=\"1\" class=\"dataframe\">\n",
       "  <thead>\n",
       "    <tr style=\"text-align: right;\">\n",
       "      <th></th>\n",
       "      <th>City</th>\n",
       "      <th>Country</th>\n",
       "      <th>Latitude</th>\n",
       "      <th>Longitudes</th>\n",
       "      <th>Max Temperature (F)</th>\n",
       "      <th>Humidity (%)</th>\n",
       "      <th>Cloudiness (%)</th>\n",
       "      <th>Wind Speed (mph)</th>\n",
       "      <th>Date</th>\n",
       "    </tr>\n",
       "  </thead>\n",
       "  <tbody>\n",
       "    <tr>\n",
       "      <th>0</th>\n",
       "      <td>vaini</td>\n",
       "      <td>TO</td>\n",
       "      <td>-21.2</td>\n",
       "      <td>-175.2</td>\n",
       "      <td>80.6</td>\n",
       "      <td>78</td>\n",
       "      <td>40</td>\n",
       "      <td>9.22</td>\n",
       "      <td>1618792670</td>\n",
       "    </tr>\n",
       "    <tr>\n",
       "      <th>1</th>\n",
       "      <td>halalo</td>\n",
       "      <td>WF</td>\n",
       "      <td>NAN</td>\n",
       "      <td>NAN</td>\n",
       "      <td>NAN</td>\n",
       "      <td>NAN</td>\n",
       "      <td>NAN</td>\n",
       "      <td>NAN</td>\n",
       "      <td>NAN</td>\n",
       "    </tr>\n",
       "    <tr>\n",
       "      <th>2</th>\n",
       "      <td>vaitupu</td>\n",
       "      <td>WF</td>\n",
       "      <td>NAN</td>\n",
       "      <td>NAN</td>\n",
       "      <td>NAN</td>\n",
       "      <td>NAN</td>\n",
       "      <td>NAN</td>\n",
       "      <td>NAN</td>\n",
       "      <td>NAN</td>\n",
       "    </tr>\n",
       "    <tr>\n",
       "      <th>3</th>\n",
       "      <td>kapaa</td>\n",
       "      <td>US</td>\n",
       "      <td>22.0752</td>\n",
       "      <td>-159.319</td>\n",
       "      <td>78.8</td>\n",
       "      <td>61</td>\n",
       "      <td>40</td>\n",
       "      <td>13.8</td>\n",
       "      <td>1618792093</td>\n",
       "    </tr>\n",
       "    <tr>\n",
       "      <th>4</th>\n",
       "      <td>provideniya</td>\n",
       "      <td>RU</td>\n",
       "      <td>64.3833</td>\n",
       "      <td>-173.3</td>\n",
       "      <td>30.2</td>\n",
       "      <td>69</td>\n",
       "      <td>0</td>\n",
       "      <td>6.71</td>\n",
       "      <td>1618792333</td>\n",
       "    </tr>\n",
       "    <tr>\n",
       "      <th>...</th>\n",
       "      <td>...</td>\n",
       "      <td>...</td>\n",
       "      <td>...</td>\n",
       "      <td>...</td>\n",
       "      <td>...</td>\n",
       "      <td>...</td>\n",
       "      <td>...</td>\n",
       "      <td>...</td>\n",
       "      <td>...</td>\n",
       "    </tr>\n",
       "    <tr>\n",
       "      <th>594</th>\n",
       "      <td>russell</td>\n",
       "      <td>NZ</td>\n",
       "      <td>32.3502</td>\n",
       "      <td>-85.1999</td>\n",
       "      <td>69.8</td>\n",
       "      <td>59</td>\n",
       "      <td>20</td>\n",
       "      <td>3.44</td>\n",
       "      <td>1618792405</td>\n",
       "    </tr>\n",
       "    <tr>\n",
       "      <th>595</th>\n",
       "      <td>asau</td>\n",
       "      <td>TV</td>\n",
       "      <td>46.4333</td>\n",
       "      <td>26.4</td>\n",
       "      <td>41</td>\n",
       "      <td>67</td>\n",
       "      <td>100</td>\n",
       "      <td>1.25</td>\n",
       "      <td>1618792405</td>\n",
       "    </tr>\n",
       "    <tr>\n",
       "      <th>596</th>\n",
       "      <td>rungata</td>\n",
       "      <td>KI</td>\n",
       "      <td>NAN</td>\n",
       "      <td>NAN</td>\n",
       "      <td>NAN</td>\n",
       "      <td>NAN</td>\n",
       "      <td>NAN</td>\n",
       "      <td>NAN</td>\n",
       "      <td>NAN</td>\n",
       "    </tr>\n",
       "    <tr>\n",
       "      <th>597</th>\n",
       "      <td>beringovskiy</td>\n",
       "      <td>RU</td>\n",
       "      <td>63.05</td>\n",
       "      <td>179.317</td>\n",
       "      <td>32.94</td>\n",
       "      <td>95</td>\n",
       "      <td>88</td>\n",
       "      <td>3.36</td>\n",
       "      <td>1618792405</td>\n",
       "    </tr>\n",
       "    <tr>\n",
       "      <th>598</th>\n",
       "      <td>leningradskiy</td>\n",
       "      <td>RU</td>\n",
       "      <td>69.3833</td>\n",
       "      <td>178.417</td>\n",
       "      <td>32.27</td>\n",
       "      <td>65</td>\n",
       "      <td>0</td>\n",
       "      <td>9.82</td>\n",
       "      <td>1618792405</td>\n",
       "    </tr>\n",
       "  </tbody>\n",
       "</table>\n",
       "<p>599 rows × 9 columns</p>\n",
       "</div>"
      ],
      "text/plain": [
       "              City Country Latitude Longitudes Max Temperature (F)  \\\n",
       "0            vaini      TO    -21.2     -175.2                80.6   \n",
       "1           halalo      WF      NAN        NAN                 NAN   \n",
       "2          vaitupu      WF      NAN        NAN                 NAN   \n",
       "3            kapaa      US  22.0752   -159.319                78.8   \n",
       "4      provideniya      RU  64.3833     -173.3                30.2   \n",
       "..             ...     ...      ...        ...                 ...   \n",
       "594        russell      NZ  32.3502   -85.1999                69.8   \n",
       "595           asau      TV  46.4333       26.4                  41   \n",
       "596        rungata      KI      NAN        NAN                 NAN   \n",
       "597   beringovskiy      RU    63.05    179.317               32.94   \n",
       "598  leningradskiy      RU  69.3833    178.417               32.27   \n",
       "\n",
       "    Humidity (%) Cloudiness (%) Wind Speed (mph)        Date  \n",
       "0             78             40             9.22  1618792670  \n",
       "1            NAN            NAN              NAN         NAN  \n",
       "2            NAN            NAN              NAN         NAN  \n",
       "3             61             40             13.8  1618792093  \n",
       "4             69              0             6.71  1618792333  \n",
       "..           ...            ...              ...         ...  \n",
       "594           59             20             3.44  1618792405  \n",
       "595           67            100             1.25  1618792405  \n",
       "596          NAN            NAN              NAN         NAN  \n",
       "597           95             88             3.36  1618792405  \n",
       "598           65              0             9.82  1618792405  \n",
       "\n",
       "[599 rows x 9 columns]"
      ]
     },
     "execution_count": 38,
     "metadata": {},
     "output_type": "execute_result"
    }
   ],
   "source": [
    "RawData_df = pd.DataFrame({\"City\":cities,\n",
    "                           \"Country\":countries,\n",
    "                           \"Latitude\":lat,\n",
    "                           \"Longitudes\":lon,\n",
    "                           \"Max Temperature (F)\":temp,\n",
    "                           \"Humidity (%)\":Humidity,\n",
    "                           \"Cloudiness (%)\":Cloudiness,\n",
    "                           \"Wind Speed (mph)\":wind,\n",
    "                           \"Date\":date})\n",
    "RawData_df"
   ]
  },
  {
   "cell_type": "code",
   "execution_count": 39,
   "metadata": {},
   "outputs": [
    {
     "data": {
      "text/html": [
       "<div>\n",
       "<style scoped>\n",
       "    .dataframe tbody tr th:only-of-type {\n",
       "        vertical-align: middle;\n",
       "    }\n",
       "\n",
       "    .dataframe tbody tr th {\n",
       "        vertical-align: top;\n",
       "    }\n",
       "\n",
       "    .dataframe thead th {\n",
       "        text-align: right;\n",
       "    }\n",
       "</style>\n",
       "<table border=\"1\" class=\"dataframe\">\n",
       "  <thead>\n",
       "    <tr style=\"text-align: right;\">\n",
       "      <th></th>\n",
       "      <th>City</th>\n",
       "      <th>Country</th>\n",
       "      <th>Latitude</th>\n",
       "      <th>Longitudes</th>\n",
       "      <th>Max Temperature (F)</th>\n",
       "      <th>Humidity (%)</th>\n",
       "      <th>Cloudiness (%)</th>\n",
       "      <th>Wind Speed (mph)</th>\n",
       "      <th>Date</th>\n",
       "    </tr>\n",
       "  </thead>\n",
       "  <tbody>\n",
       "    <tr>\n",
       "      <th>0</th>\n",
       "      <td>vaini</td>\n",
       "      <td>TO</td>\n",
       "      <td>-21.2</td>\n",
       "      <td>-175.2</td>\n",
       "      <td>80.6</td>\n",
       "      <td>78</td>\n",
       "      <td>40</td>\n",
       "      <td>9.22</td>\n",
       "      <td>1618792670</td>\n",
       "    </tr>\n",
       "    <tr>\n",
       "      <th>3</th>\n",
       "      <td>kapaa</td>\n",
       "      <td>US</td>\n",
       "      <td>22.0752</td>\n",
       "      <td>-159.319</td>\n",
       "      <td>78.8</td>\n",
       "      <td>61</td>\n",
       "      <td>40</td>\n",
       "      <td>13.8</td>\n",
       "      <td>1618792093</td>\n",
       "    </tr>\n",
       "    <tr>\n",
       "      <th>4</th>\n",
       "      <td>provideniya</td>\n",
       "      <td>RU</td>\n",
       "      <td>64.3833</td>\n",
       "      <td>-173.3</td>\n",
       "      <td>30.2</td>\n",
       "      <td>69</td>\n",
       "      <td>0</td>\n",
       "      <td>6.71</td>\n",
       "      <td>1618792333</td>\n",
       "    </tr>\n",
       "    <tr>\n",
       "      <th>5</th>\n",
       "      <td>egvekinot</td>\n",
       "      <td>RU</td>\n",
       "      <td>66.3167</td>\n",
       "      <td>-179.167</td>\n",
       "      <td>27.79</td>\n",
       "      <td>98</td>\n",
       "      <td>100</td>\n",
       "      <td>12.46</td>\n",
       "      <td>1618792333</td>\n",
       "    </tr>\n",
       "    <tr>\n",
       "      <th>7</th>\n",
       "      <td>alofi</td>\n",
       "      <td>NU</td>\n",
       "      <td>-19.0595</td>\n",
       "      <td>-169.919</td>\n",
       "      <td>84.2</td>\n",
       "      <td>54</td>\n",
       "      <td>5</td>\n",
       "      <td>10.36</td>\n",
       "      <td>1618792333</td>\n",
       "    </tr>\n",
       "    <tr>\n",
       "      <th>...</th>\n",
       "      <td>...</td>\n",
       "      <td>...</td>\n",
       "      <td>...</td>\n",
       "      <td>...</td>\n",
       "      <td>...</td>\n",
       "      <td>...</td>\n",
       "      <td>...</td>\n",
       "      <td>...</td>\n",
       "      <td>...</td>\n",
       "    </tr>\n",
       "    <tr>\n",
       "      <th>593</th>\n",
       "      <td>ngunguru</td>\n",
       "      <td>NZ</td>\n",
       "      <td>-35.6167</td>\n",
       "      <td>174.5</td>\n",
       "      <td>70</td>\n",
       "      <td>65</td>\n",
       "      <td>71</td>\n",
       "      <td>5.01</td>\n",
       "      <td>1618792404</td>\n",
       "    </tr>\n",
       "    <tr>\n",
       "      <th>594</th>\n",
       "      <td>russell</td>\n",
       "      <td>NZ</td>\n",
       "      <td>32.3502</td>\n",
       "      <td>-85.1999</td>\n",
       "      <td>69.8</td>\n",
       "      <td>59</td>\n",
       "      <td>20</td>\n",
       "      <td>3.44</td>\n",
       "      <td>1618792405</td>\n",
       "    </tr>\n",
       "    <tr>\n",
       "      <th>595</th>\n",
       "      <td>asau</td>\n",
       "      <td>TV</td>\n",
       "      <td>46.4333</td>\n",
       "      <td>26.4</td>\n",
       "      <td>41</td>\n",
       "      <td>67</td>\n",
       "      <td>100</td>\n",
       "      <td>1.25</td>\n",
       "      <td>1618792405</td>\n",
       "    </tr>\n",
       "    <tr>\n",
       "      <th>597</th>\n",
       "      <td>beringovskiy</td>\n",
       "      <td>RU</td>\n",
       "      <td>63.05</td>\n",
       "      <td>179.317</td>\n",
       "      <td>32.94</td>\n",
       "      <td>95</td>\n",
       "      <td>88</td>\n",
       "      <td>3.36</td>\n",
       "      <td>1618792405</td>\n",
       "    </tr>\n",
       "    <tr>\n",
       "      <th>598</th>\n",
       "      <td>leningradskiy</td>\n",
       "      <td>RU</td>\n",
       "      <td>69.3833</td>\n",
       "      <td>178.417</td>\n",
       "      <td>32.27</td>\n",
       "      <td>65</td>\n",
       "      <td>0</td>\n",
       "      <td>9.82</td>\n",
       "      <td>1618792405</td>\n",
       "    </tr>\n",
       "  </tbody>\n",
       "</table>\n",
       "<p>544 rows × 9 columns</p>\n",
       "</div>"
      ],
      "text/plain": [
       "              City Country Latitude Longitudes Max Temperature (F)  \\\n",
       "0            vaini      TO    -21.2     -175.2                80.6   \n",
       "3            kapaa      US  22.0752   -159.319                78.8   \n",
       "4      provideniya      RU  64.3833     -173.3                30.2   \n",
       "5        egvekinot      RU  66.3167   -179.167               27.79   \n",
       "7            alofi      NU -19.0595   -169.919                84.2   \n",
       "..             ...     ...      ...        ...                 ...   \n",
       "593       ngunguru      NZ -35.6167      174.5                  70   \n",
       "594        russell      NZ  32.3502   -85.1999                69.8   \n",
       "595           asau      TV  46.4333       26.4                  41   \n",
       "597   beringovskiy      RU    63.05    179.317               32.94   \n",
       "598  leningradskiy      RU  69.3833    178.417               32.27   \n",
       "\n",
       "    Humidity (%) Cloudiness (%) Wind Speed (mph)        Date  \n",
       "0             78             40             9.22  1618792670  \n",
       "3             61             40             13.8  1618792093  \n",
       "4             69              0             6.71  1618792333  \n",
       "5             98            100            12.46  1618792333  \n",
       "7             54              5            10.36  1618792333  \n",
       "..           ...            ...              ...         ...  \n",
       "593           65             71             5.01  1618792404  \n",
       "594           59             20             3.44  1618792405  \n",
       "595           67            100             1.25  1618792405  \n",
       "597           95             88             3.36  1618792405  \n",
       "598           65              0             9.82  1618792405  \n",
       "\n",
       "[544 rows x 9 columns]"
      ]
     },
     "execution_count": 39,
     "metadata": {},
     "output_type": "execute_result"
    }
   ],
   "source": [
    "cleaned_df = RawData_df[RawData_df['Latitude']!=\"NAN\"]\n",
    "cleaned_df.to_csv(\"../output_data/cities.csv\")\n",
    "cleaned_df"
   ]
  },
  {
   "cell_type": "markdown",
   "metadata": {},
   "source": [
    "## Inspect the data and remove the cities where the humidity > 100%.\n",
    "----\n",
    "Skip this step if there are no cities that have humidity > 100%. "
   ]
  },
  {
   "cell_type": "code",
   "execution_count": 40,
   "metadata": {},
   "outputs": [
    {
     "data": {
      "text/plain": [
       "[]"
      ]
     },
     "execution_count": 40,
     "metadata": {},
     "output_type": "execute_result"
    }
   ],
   "source": [
    "Index_label = cleaned_df[cleaned_df['Humidity (%)'] > 100].index.tolist()\n",
    "Index_label"
   ]
  },
  {
   "cell_type": "code",
   "execution_count": 41,
   "metadata": {},
   "outputs": [],
   "source": [
    "#  Get the indices of cities that have humidity over 100%.\n"
   ]
  },
  {
   "cell_type": "code",
   "execution_count": 42,
   "metadata": {},
   "outputs": [],
   "source": [
    "# Make a new DataFrame equal to the city data to drop all humidity outliers by index.\n",
    "# Passing \"inplace=False\" will make a copy of the city_data DataFrame, which we call \"clean_city_data\".\n"
   ]
  },
  {
   "cell_type": "markdown",
   "metadata": {},
   "source": [
    "## Plotting the Data\n",
    "* Use proper labeling of the plots using plot titles (including date of analysis) and axes labels.\n",
    "* Save the plotted figures as .pngs."
   ]
  },
  {
   "cell_type": "markdown",
   "metadata": {},
   "source": [
    "## Latitude vs. Temperature Plot"
   ]
  },
  {
   "cell_type": "code",
   "execution_count": 43,
   "metadata": {
    "scrolled": true
   },
   "outputs": [
    {
     "data": {
      "image/png": "[encoded data removed]",
      "text/plain": [
       "<Figure size 432x288 with 1 Axes>"
      ]
     },
     "metadata": {
      "needs_background": "light"
     },
     "output_type": "display_data"
    }
   ],
   "source": [
    "# Build a scatter plot for each data type\n",
    "plt.scatter(cleaned_df['Latitude'], cleaned_df['Max Temperature (F)'], marker=\"o\")\n",
    "\n",
    "# Incorporate the other graph properties\n",
    "plt.title('Max Temperature in World Cities based on Latitude')\n",
    "plt.ylabel('Max Temperature (Fahrenheit)')\n",
    "plt.xlabel('Latitude')\n",
    "plt.grid(True)\n",
    "plt.savefig('../output_data/TemperatureInWorldCities.png')\n",
    "plt.show()"
   ]
  },
  {
   "cell_type": "markdown",
   "metadata": {},
   "source": [
    "As shown in the plot and obviously Cities closer to Latitude 0(equator) are warmer than the rest."
   ]
  },
  {
   "cell_type": "markdown",
   "metadata": {},
   "source": [
    "## Latitude vs. Humidity Plot"
   ]
  },
  {
   "cell_type": "code",
   "execution_count": 44,
   "metadata": {},
   "outputs": [
    {
     "data": {
      "image/png": "[encoded data removed]",
      "text/plain": [
       "<Figure size 432x288 with 1 Axes>"
      ]
     },
     "metadata": {
      "needs_background": "light"
     },
     "output_type": "display_data"
    }
   ],
   "source": [
    "# Build a scatter plot for each data type\n",
    "plt.scatter(cleaned_df['Latitude'], cleaned_df['Humidity (%)'], marker=\"o\")\n",
    "\n",
    "# Incorporate the other graph properties\n",
    "plt.title('Humidity in World Cities based on Latitude')\n",
    "plt.ylabel('Humidity (%)')\n",
    "plt.xlabel('Latitude')\n",
    "plt.grid(True)\n",
    "plt.savefig('../output_data/HumidityInWorldCities.png')\n",
    "plt.show()"
   ]
  },
  {
   "cell_type": "markdown",
   "metadata": {},
   "source": [
    "No relation found between humidity and latitude of the cities"
   ]
  },
  {
   "cell_type": "markdown",
   "metadata": {},
   "source": [
    "## Latitude vs. Cloudiness Plot"
   ]
  },
  {
   "cell_type": "code",
   "execution_count": 45,
   "metadata": {},
   "outputs": [
    {
     "data": {
      "image/png": "[encoded data removed]",
      "text/plain": [
       "<Figure size 432x288 with 1 Axes>"
      ]
     },
     "metadata": {
      "needs_background": "light"
     },
     "output_type": "display_data"
    }
   ],
   "source": [
    "# Build a scatter plot for each data type\n",
    "plt.scatter(cleaned_df['Latitude'], cleaned_df['Cloudiness (%)'], marker=\"o\")\n",
    "\n",
    "# Incorporate the other graph properties\n",
    "plt.title('Cloudiness in World Cities based on Latitude')\n",
    "plt.ylabel('Cloudiness (%)')\n",
    "plt.xlabel('Latitude')\n",
    "plt.grid(True)\n",
    "plt.savefig('../output_data/CloudinessInWorldCities.png')\n",
    "plt.show()"
   ]
  },
  {
   "cell_type": "markdown",
   "metadata": {},
   "source": [
    "No relation found between Cloudiness and latitude of the cities"
   ]
  },
  {
   "cell_type": "markdown",
   "metadata": {},
   "source": [
    "## Latitude vs. Wind Speed Plot"
   ]
  },
  {
   "cell_type": "code",
   "execution_count": 46,
   "metadata": {},
   "outputs": [
    {
     "data": {
      "image/png": "[encoded data removed]",
      "text/plain": [
       "<Figure size 432x288 with 1 Axes>"
      ]
     },
     "metadata": {
      "needs_background": "light"
     },
     "output_type": "display_data"
    }
   ],
   "source": [
    "# Build a scatter plot for each data type\n",
    "plt.scatter(cleaned_df['Latitude'], cleaned_df['Wind Speed (mph)'], marker=\"o\")\n",
    "\n",
    "# Incorporate the other graph properties\n",
    "plt.title('Wind Speed in World Cities based on Latitude')\n",
    "plt.ylabel('Wind Speed (mph)')\n",
    "plt.xlabel('Latitude')\n",
    "plt.grid(True)\n",
    "plt.savefig('../output_data/WindSpeedInWorldCities.png')\n",
    "plt.show()"
   ]
  },
  {
   "cell_type": "markdown",
   "metadata": {},
   "source": [
    "No relation found between wind speed and latitude of the cities"
   ]
  },
  {
   "cell_type": "markdown",
   "metadata": {},
   "source": [
    "# Linear Regression"
   ]
  },
  {
   "cell_type": "markdown",
   "metadata": {},
   "source": [
    "####  Northern Hemisphere - Max Temp vs. Latitude Linear Regression"
   ]
  },
  {
   "cell_type": "code",
   "execution_count": 47,
   "metadata": {},
   "outputs": [
    {
     "name": "stdout",
     "output_type": "stream",
     "text": [
      "The r-squared is: 0.7490184797233491\n",
      "y = -0.99x + 93.11\n"
     ]
    },
    {
     "data": {
      "image/png": "[encoded data removed]",
      "text/plain": [
       "<Figure size 432x288 with 1 Axes>"
      ]
     },
     "metadata": {
      "needs_background": "light"
     },
     "output_type": "display_data"
    }
   ],
   "source": [
    "#Northern Hemisphere\n",
    "# Create a Scatter Plot for temperature vs. latitude \n",
    "x_values = cleaned_df.loc[cleaned_df['Latitude']>=0,'Latitude']\n",
    "y_values = cleaned_df.loc[cleaned_df['Latitude']>=0,'Max Temperature (F)']\n",
    "(nt_slope, nt_intercept, nt_rvalue, nt_pvalue, nt_stderr) = stats.linregress(x_values.astype(float), y_values.astype(float))\n",
    "regress_values = x_values * nt_slope + nt_intercept\n",
    "line_eq = \"y = \" + str(round(nt_slope,2)) + \"x + \" + str(round(nt_intercept,2))\n",
    "plt.scatter(x_values,y_values)\n",
    "plt.plot(x_values,regress_values,\"r-\")\n",
    "plt.annotate(line_eq,(10,0),fontsize=15,color=\"red\")\n",
    "plt.xlabel('latitude')\n",
    "plt.ylabel('max temperature')\n",
    "print(f\"The r-squared is: {nt_rvalue**2}\")\n",
    "print(line_eq)\n",
    "plt.show()"
   ]
  },
  {
   "cell_type": "markdown",
   "metadata": {},
   "source": [
    "####  Southern Hemisphere - Max Temp vs. Latitude Linear Regression"
   ]
  },
  {
   "cell_type": "code",
   "execution_count": 48,
   "metadata": {},
   "outputs": [
    {
     "name": "stdout",
     "output_type": "stream",
     "text": [
      "The r-squared is: 0.380133816679254\n",
      "y = 0.44x + 80.22\n"
     ]
    },
    {
     "data": {
      "image/png": "[encoded data removed]",
      "text/plain": [
       "<Figure size 432x288 with 1 Axes>"
      ]
     },
     "metadata": {
      "needs_background": "light"
     },
     "output_type": "display_data"
    }
   ],
   "source": [
    "#Southern Hemisphere\n",
    "# Create a Scatter Plot for temperature vs. latitude \n",
    "x_values = cleaned_df.loc[cleaned_df['Latitude']<0,'Latitude']\n",
    "y_values = cleaned_df.loc[cleaned_df['Latitude']<0,'Max Temperature (F)']\n",
    "(st_slope, st_intercept, st_rvalue, st_pvalue, st_stderr) = stats.linregress(x_values.astype(float), y_values.astype(float))\n",
    "regress_values = x_values * st_slope + st_intercept\n",
    "line_eq = \"y = \" + str(round(st_slope,2)) + \"x + \" + str(round(st_intercept,2))\n",
    "plt.scatter(x_values,y_values)\n",
    "plt.plot(x_values,regress_values,\"r-\")\n",
    "plt.annotate(line_eq,(-30,50),fontsize=15,color=\"red\")\n",
    "plt.xlabel('latitude')\n",
    "plt.ylabel('max temperature')\n",
    "print(f\"The r-squared is: {st_rvalue**2}\")\n",
    "print(line_eq)\n",
    "plt.show()"
   ]
  },
  {
   "cell_type": "markdown",
   "metadata": {},
   "source": [
    "####  Northern Hemisphere - Humidity (%) vs. Latitude Linear Regression"
   ]
  },
  {
   "cell_type": "code",
   "execution_count": 49,
   "metadata": {},
   "outputs": [
    {
     "name": "stdout",
     "output_type": "stream",
     "text": [
      "The r-squared is: 0.016902472201837968\n",
      "y = 0.15x + 58.11\n"
     ]
    },
    {
     "data": {
      "image/png": "[encoded data removed]",
      "text/plain": [
       "<Figure size 432x288 with 1 Axes>"
      ]
     },
     "metadata": {
      "needs_background": "light"
     },
     "output_type": "display_data"
    }
   ],
   "source": [
    "#Northern Hemisphere\n",
    "# Create a Scatter Plot for humidity vs. latitude\n",
    "x_values = cleaned_df.loc[cleaned_df['Latitude']>=0,'Latitude']\n",
    "y_values = cleaned_df.loc[cleaned_df['Latitude']>=0,'Humidity (%)']\n",
    "(nh_slope, nh_intercept, nh_rvalue, nh_pvalue, nh_stderr) = stats.linregress(x_values.astype(float), y_values.astype(float))\n",
    "regress_values = x_values * nh_slope + nh_intercept\n",
    "line_eq = \"y = \" + str(round(nh_slope,2)) + \"x + \" + str(round(nh_intercept,2))\n",
    "plt.scatter(x_values,y_values)\n",
    "plt.plot(x_values,regress_values,\"r-\")\n",
    "plt.annotate(line_eq,(45,10),fontsize=15,color=\"red\")\n",
    "plt.xlabel('latitude')\n",
    "plt.ylabel('humidity')\n",
    "print(f\"The r-squared is: {nh_rvalue**2}\")\n",
    "print(line_eq)\n",
    "plt.show()"
   ]
  },
  {
   "cell_type": "markdown",
   "metadata": {},
   "source": [
    "####  Southern Hemisphere - Humidity (%) vs. Latitude Linear Regression"
   ]
  },
  {
   "cell_type": "code",
   "execution_count": 50,
   "metadata": {},
   "outputs": [
    {
     "name": "stdout",
     "output_type": "stream",
     "text": [
      "The r-squared is: 0.08901759810958682\n",
      "y = 0.39x + 82.49\n"
     ]
    },
    {
     "data": {
      "image/png": "[encoded data removed]",
      "text/plain": [
       "<Figure size 432x288 with 1 Axes>"
      ]
     },
     "metadata": {
      "needs_background": "light"
     },
     "output_type": "display_data"
    }
   ],
   "source": [
    "#Southern Hemisphere\n",
    "# Create a Scatter Plot for humidity vs. latitude\n",
    "x_values = cleaned_df.loc[cleaned_df['Latitude']<0,'Latitude']\n",
    "y_values = cleaned_df.loc[cleaned_df['Latitude']<0,'Humidity (%)']\n",
    "(sh_slope, sh_intercept, sh_rvalue, sh_pvalue, sh_stderr) = stats.linregress(x_values.astype(float), y_values.astype(float))\n",
    "regress_values = x_values * sh_slope + sh_intercept\n",
    "line_eq = \"y = \" + str(round(sh_slope,2)) + \"x + \" + str(round(sh_intercept,2))\n",
    "plt.scatter(x_values,y_values)\n",
    "plt.plot(x_values,regress_values,\"r-\")\n",
    "plt.annotate(line_eq,(-55,30),fontsize=15,color=\"red\")\n",
    "plt.xlabel('latitude')\n",
    "plt.ylabel('humidity')\n",
    "print(f\"The r-squared is: {sh_rvalue**2}\")\n",
    "print(line_eq)\n",
    "plt.show()"
   ]
  },
  {
   "cell_type": "markdown",
   "metadata": {},
   "source": [
    "####  Northern Hemisphere - Cloudiness (%) vs. Latitude Linear Regression"
   ]
  },
  {
   "cell_type": "code",
   "execution_count": 51,
   "metadata": {},
   "outputs": [
    {
     "name": "stdout",
     "output_type": "stream",
     "text": [
      "The r-squared is: 0.0003320106425017724\n",
      "y = 0.04x + 53.57\n"
     ]
    },
    {
     "data": {
      "image/png": "[encoded data removed]",
      "text/plain": [
       "<Figure size 432x288 with 1 Axes>"
      ]
     },
     "metadata": {
      "needs_background": "light"
     },
     "output_type": "display_data"
    }
   ],
   "source": [
    "#Northern Hemisphere\n",
    "# Create a Scatter Plot for cloudiness vs. latitude\n",
    "x_values = cleaned_df.loc[cleaned_df['Latitude']>=0,'Latitude']\n",
    "y_values = cleaned_df.loc[cleaned_df['Latitude']>=0,'Cloudiness (%)']\n",
    "(nc_slope, nc_intercept, nc_rvalue, nc_pvalue, nc_stderr) = stats.linregress(x_values.astype(float), y_values.astype(float))\n",
    "regress_values = x_values * nc_slope + nc_intercept\n",
    "line_eq = \"y = \" + str(round(nc_slope,2)) + \"x + \" + str(round(nc_intercept,2))\n",
    "plt.scatter(x_values,y_values)\n",
    "plt.plot(x_values,regress_values,\"r-\")\n",
    "plt.annotate(line_eq,(30,30),fontsize=15,color=\"red\")\n",
    "plt.xlabel('latitude')\n",
    "plt.ylabel('cloudiness')\n",
    "print(f\"The r-squared is: {nc_rvalue**2}\")\n",
    "print(line_eq)\n",
    "plt.show()"
   ]
  },
  {
   "cell_type": "markdown",
   "metadata": {},
   "source": [
    "####  Southern Hemisphere - Cloudiness (%) vs. Latitude Linear Regression"
   ]
  },
  {
   "cell_type": "code",
   "execution_count": 52,
   "metadata": {},
   "outputs": [
    {
     "name": "stdout",
     "output_type": "stream",
     "text": [
      "The r-squared is: 0.042452061346125766\n",
      "y = 0.58x + 60.08\n"
     ]
    },
    {
     "data": {
      "image/png": "[encoded data removed]",
      "text/plain": [
       "<Figure size 432x288 with 1 Axes>"
      ]
     },
     "metadata": {
      "needs_background": "light"
     },
     "output_type": "display_data"
    }
   ],
   "source": [
    "#Southern Hemisphere\n",
    "# Create a Scatter Plot for cloudiness vs. latitude\n",
    "x_values = cleaned_df.loc[cleaned_df['Latitude']<0,'Latitude']\n",
    "y_values = cleaned_df.loc[cleaned_df['Latitude']<0,'Cloudiness (%)']\n",
    "(sc_slope, sc_intercept, sc_rvalue, sc_pvalue, sc_stderr) = stats.linregress(x_values.astype(float), y_values.astype(float))\n",
    "regress_values = x_values * sc_slope + sc_intercept\n",
    "line_eq = \"y = \" + str(round(sc_slope,2)) + \"x + \" + str(round(sc_intercept,2))\n",
    "plt.scatter(x_values,y_values)\n",
    "plt.plot(x_values,regress_values,\"r-\")\n",
    "plt.annotate(line_eq,(-35,30),fontsize=15,color=\"red\")\n",
    "plt.xlabel('latitude')\n",
    "plt.ylabel('cloudiness')\n",
    "print(f\"The r-squared is: {sc_rvalue**2}\")\n",
    "print(line_eq)\n",
    "plt.show()"
   ]
  },
  {
   "cell_type": "markdown",
   "metadata": {},
   "source": [
    "####  Northern Hemisphere - Wind Speed (mph) vs. Latitude Linear Regression"
   ]
  },
  {
   "cell_type": "code",
   "execution_count": 53,
   "metadata": {},
   "outputs": [
    {
     "name": "stdout",
     "output_type": "stream",
     "text": [
      "The r-squared is: 0.009446646426637279\n",
      "y = 0.03x + 7.44\n"
     ]
    },
    {
     "data": {
      "image/png": "[encoded data removed]",
      "text/plain": [
       "<Figure size 432x288 with 1 Axes>"
      ]
     },
     "metadata": {
      "needs_background": "light"
     },
     "output_type": "display_data"
    }
   ],
   "source": [
    "#Northern Hemisphere\n",
    "# Create a Scatter Plot for wind speed vs. latitude\n",
    "x_values = cleaned_df.loc[cleaned_df['Latitude']>=0,'Latitude']\n",
    "y_values = cleaned_df.loc[cleaned_df['Latitude']>=0,'Wind Speed (mph)']\n",
    "(nw_slope, nw_intercept, nw_rvalue, nw_pvalue, nw_stderr) = stats.linregress(x_values.astype(float), y_values.astype(float))\n",
    "regress_values = x_values * nw_slope + nw_intercept\n",
    "line_eq= \"y = \" + str(round(nw_slope,2)) + \"x + \" + str(round(nw_intercept,2))\n",
    "plt.scatter(x_values,y_values)\n",
    "plt.plot(x_values,regress_values,\"r-\")\n",
    "plt.annotate(line_eq,(20,25),fontsize=15,color=\"red\")\n",
    "plt.xlabel('latitude')\n",
    "plt.ylabel('wind speed')\n",
    "print(f\"The r-squared is: {nw_rvalue**2}\")\n",
    "print(line_eq)\n",
    "plt.show()"
   ]
  },
  {
   "cell_type": "markdown",
   "metadata": {},
   "source": [
    "####  Southern Hemisphere - Wind Speed (mph) vs. Latitude Linear Regression"
   ]
  },
  {
   "cell_type": "code",
   "execution_count": 54,
   "metadata": {},
   "outputs": [
    {
     "name": "stdout",
     "output_type": "stream",
     "text": [
      "The r-squared is: 0.07419273033208613\n",
      "y = -0.09x + 5.19\n"
     ]
    },
    {
     "data": {
      "image/png": "[encoded data removed]",
      "text/plain": [
       "<Figure size 432x288 with 1 Axes>"
      ]
     },
     "metadata": {
      "needs_background": "light"
     },
     "output_type": "display_data"
    }
   ],
   "source": [
    "#Southern Hemisphere\n",
    "# Create a Scatter Plot for wind speed vs. latitude\n",
    "x_values = cleaned_df.loc[cleaned_df['Latitude']<0,'Latitude']\n",
    "y_values = cleaned_df.loc[cleaned_df['Latitude']<0,'Wind Speed (mph)']\n",
    "(sw_slope, sw_intercept, sw_rvalue, sw_pvalue, sw_stderr) = stats.linregress(x_values.astype(float), y_values.astype(float))\n",
    "regress_values = x_values * sw_slope + sw_intercept\n",
    "line_eq = \"y = \" + str(round(sw_slope,2)) + \"x + \" + str(round(sw_intercept,2))\n",
    "plt.scatter(x_values,y_values)\n",
    "plt.plot(x_values,regress_values,\"r-\")\n",
    "plt.annotate(line_eq,(-30,16),fontsize=15,color=\"red\")\n",
    "plt.xlabel('latitude')\n",
    "plt.ylabel('wind speed')\n",
    "print(f\"The r-squared is: {sw_rvalue**2}\")\n",
    "print(line_eq)\n",
    "plt.show()"
   ]
  }
 ],
 "metadata": {
  "anaconda-cloud": {},
  "kernel_info": {
   "name": "python3"
  },
  "kernelspec": {
   "display_name": "Python 3",
   "language": "python",
   "name": "python3"
  },
  "language_info": {
   "codemirror_mode": {
    "name": "ipython",
    "version": 3
   },
   "file_extension": ".py",
   "mimetype": "text/x-python",
   "name": "python",
   "nbconvert_exporter": "python",
   "pygments_lexer": "ipython3",
   "version": "3.8.5"
  },
  "latex_envs": {
   "LaTeX_envs_menu_present": true,
   "autoclose": false,
   "autocomplete": true,
   "bibliofile": "biblio.bib",
   "cite_by": "apalike",
   "current_citInitial": 1,
   "eqLabelWithNumbers": true,
   "eqNumInitial": 1,
   "hotkeys": {
    "equation": "Ctrl-E",
    "itemize": "Ctrl-I"
   },
   "labels_anchors": false,
   "latex_user_defs": false,
   "report_style_numbering": false,
   "user_envs_cfg": false
  },
  "nteract": {
   "version": "0.12.3"
  }
 },
 "nbformat": 4,
 "nbformat_minor": 2
}
